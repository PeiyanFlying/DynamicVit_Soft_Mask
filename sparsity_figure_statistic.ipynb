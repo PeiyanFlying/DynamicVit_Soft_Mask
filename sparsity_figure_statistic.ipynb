{
 "cells": [
  {
   "cell_type": "code",
   "execution_count": 4,
   "metadata": {},
   "outputs": [],
   "source": [
    "from openpyxl import Workbook"
   ]
  },
  {
   "cell_type": "code",
   "execution_count": 7,
   "metadata": {},
   "outputs": [],
   "source": [
    "# 提取数据\n",
    "file_path = 'sheet_item5'\n",
    "f = open(file_path + '.log',\"r\") \n",
    "lines = f.readlines()      #读取全部内容 ，并以列表方式返回\n",
    "Acc1 = []\n",
    "Sparsity0 = []\n",
    "Sparsity1 = []\n",
    "Sparsity2 = []\n",
    "for line in lines:\n",
    "    if '* Acc@1' in line: Acc1.append(float(line.split(' ')[2]))\n",
    "    if 'Sparsity' in line: \n",
    "        Sparsity0.append(float(line.split(',')[0][10:-1]))\n",
    "        Sparsity1.append(float(line.split(',')[1][10:-1]))\n",
    "        Sparsity2.append(float(line.split(',')[2][10:-1]))"
   ]
  },
  {
   "cell_type": "code",
   "execution_count": 8,
   "metadata": {},
   "outputs": [],
   "source": [
    "# 形成 excel 文件\n",
    "mybook = Workbook()\n",
    "wa = mybook.active\n",
    "wa.append(['Acc1', 'Sparsity0', 'Sparsity1', 'Sparsity2'])\n",
    "for i in range(len(Acc1)):\n",
    "    wa.append([Acc1[i], Sparsity0[i], Sparsity1[i], Sparsity2[i]])\n",
    "    \n",
    "mybook.save(file_path+'.xlsx')"
   ]
  },
  {
   "cell_type": "code",
   "execution_count": null,
   "metadata": {},
   "outputs": [],
   "source": []
  }
 ],
 "metadata": {
  "kernelspec": {
   "display_name": "Python 3",
   "language": "python",
   "name": "python3"
  },
  "language_info": {
   "codemirror_mode": {
    "name": "ipython",
    "version": 3
   },
   "file_extension": ".py",
   "mimetype": "text/x-python",
   "name": "python",
   "nbconvert_exporter": "python",
   "pygments_lexer": "ipython3",
   "version": "3.7.4"
  }
 },
 "nbformat": 4,
 "nbformat_minor": 2
}
